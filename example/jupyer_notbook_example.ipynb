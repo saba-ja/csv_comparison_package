{
 "cells": [
  {
   "cell_type": "code",
   "execution_count": 1,
   "metadata": {},
   "outputs": [],
   "source": [
    "from csv_comparison_package import csv_compare_module as cc"
   ]
  },
  {
   "cell_type": "code",
   "execution_count": 2,
   "metadata": {},
   "outputs": [],
   "source": [
    "parameters = {\n",
    "    #~~~~~~~~~~~~~~~~~~~~~~~~~~~~~~~~~~~~~~~~~~~~~~~~\n",
    "    #~~~~~~~~~~~~ FILE SETUP ~~~~~~~~~~~~~~~~~~~~~~~~\n",
    "    #~~~~~~~~~~~~~~~~~~~~~~~~~~~~~~~~~~~~~~~~~~~~~~~~\n",
    "    \"file_1_name\"                     :\"./sheet_1.csv\",\n",
    "    \"file_2_name\"                     :\"./sheet_2.csv\",\n",
    "    \n",
    "    \"file_1_index_column_name\"        : [{\"column_name\":\"Social Security ID\"}],\n",
    "    \"file_2_index_column_name\"        : [{\"column_name\":\"Social Security ID\"}],\n",
    "    \n",
    "    \"file_1_2_map_columns\":[({\"column_name\":\"First Name\"},{\"column_name\":\"First Name\"})],\n",
    "    \n",
    "    \"file_1_2_compare_only_mapped_columns\"     : True,\n",
    "    \"file_1_header_row\"                  : 1,\n",
    "    \"file_2_header_row\"                  : 1,\n",
    "    #~~~~~~~~~~~~~~~~~~~~~~~~~~~~~~~~~~~~~~~~~~~~~~~~\n",
    "    #~~~~~~~~~~~~ HIDE AND SHOW SETUP ~~~~~~~~~~~~~~~\n",
    "    #~~~~~~~~~~~~~~~~~~~~~~~~~~~~~~~~~~~~~~~~~~~~~~~~\n",
    "    \"file_1_hide_modified_columns\"       : False,\n",
    "    \"file_2_hide_modified_columns\"       : False,\n",
    "    \n",
    "    \"file_1_hide_not_checked_columns\"    : True,\n",
    "    \"file_2_hide_not_checked_columns\"    : True,\n",
    "    \n",
    "    \"file_1_hide_disjunctive_columns\"    : True,\n",
    "    \"file_2_hide_disjunctive_columns\"    : True,\n",
    "    \n",
    "    \"file_1_hide_duplicate_columns\"      : True,\n",
    "    \"file_2_hide_duplicate_columns\"      : True,\n",
    "    \n",
    "    \"file_1_hide_unnamed_columns\"        : True,\n",
    "    \"file_2_hide_unnamed_columns\"        : True,\n",
    "    \n",
    "    \"file_1_2_hide_not_modified_rows\"    : True,\n",
    "    \n",
    "    \"file_1_2_output_path\" : './'\n",
    "    \n",
    "}\n"
   ]
  },
  {
   "cell_type": "code",
   "execution_count": 3,
   "metadata": {
    "scrolled": false
   },
   "outputs": [
    {
     "name": "stdout",
     "output_type": "stream",
     "text": [
      "Analyzing started\n"
     ]
    }
   ],
   "source": [
    "cc.export_to_excel(parameters)"
   ]
  }
 ],
 "metadata": {
  "kernelspec": {
   "display_name": "Python 3",
   "language": "python",
   "name": "python3"
  },
  "language_info": {
   "codemirror_mode": {
    "name": "ipython",
    "version": 3
   },
   "file_extension": ".py",
   "mimetype": "text/x-python",
   "name": "python",
   "nbconvert_exporter": "python",
   "pygments_lexer": "ipython3",
   "version": "3.6.3"
  }
 },
 "nbformat": 4,
 "nbformat_minor": 2
}
